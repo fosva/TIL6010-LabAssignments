{
 "cells": [
  {
   "cell_type": "code",
   "execution_count": 12,
   "metadata": {},
   "outputs": [],
   "source": [
    "import pandas as pd\n",
    "import matplotlib.pyplot as plt\n",
    "\n",
    "fuel = pd.read_csv(\"data/fuel.csv\", sep=\";\")[:-1]\n",
    "fuel = fuel.replace(',','.', regex = True)\n",
    "fuel[[\"Benzine\",\"Diesel\",\"LPG\"]] = fuel[[\"Benzine\", \"Diesel\",\"LPG\"]].map(lambda x: float(x))\n"
   ]
  },
  {
   "cell_type": "code",
   "execution_count": 16,
   "metadata": {},
   "outputs": [
    {
     "name": "stdout",
     "output_type": "stream",
     "text": [
      "Any empty values:\n",
      "Perioden    False\n",
      "Benzine     False\n",
      "Diesel      False\n",
      "LPG         False\n",
      "Jaar        False\n",
      "Maand       False\n",
      "Kwartaal    False\n",
      "dtype: bool\n",
      "                   Perioden  Benzine  Diesel    LPG  Jaar  Maand  Kwartaal\n",
      "0     2006 zondag 1 januari    1.325   1.003  0.543  2006      1         1\n",
      "1    2006 maandag 2 januari    1.328   1.007  0.542  2006      1         1\n",
      "2    2006 dinsdag 3 januari    1.332   1.007  0.540  2006      1         1\n",
      "3   2006 woensdag 4 januari    1.348   1.020  0.550  2006      1         1\n",
      "4  2006 donderdag 5 januari    1.347   1.021  0.550  2006      1         1\n"
     ]
    }
   ],
   "source": [
    "dates = [date.split(sep= \" \") for date in fuel[\"Perioden\"]]\n",
    "fuel[\"Jaar\"] = [date[0] for date in dates]\n",
    "\n",
    "dct = {\"januari\": 1, \"februari\": 2, \"maart\": 3, \"april\": 4, \"mei\": 5, \"juni\": 6,\\\n",
    "        \"juli\":7, \"augustus\": 8, \"september\":9, \"oktober\":10, \"november\":11, \"december\":12}\n",
    "fuel[\"Maand\"] = [dct[date[-1]] for date in dates]\n",
    "fuel[\"Kwartaal\"] = [1+(maand-1)//3 for maand in fuel[\"Maand\"]]\n",
    "fuel.head()\n",
    "\n",
    "print(\"Any empty values:\", fuel.isna().any(), sep=\"\\n\")\n",
    "print(fuel.head())"
   ]
  },
  {
   "cell_type": "code",
   "execution_count": 17,
   "metadata": {},
   "outputs": [],
   "source": [
    "#years = [fuel[fuel[\"Jaar\"] == year] for year in range(2006, 2024)]\n",
    "#years[0][(years[0][\"Maand index\"]-1)//3 == 0]\n",
    "\n",
    "years2 = fuel.groupby([\"Jaar\", \"Kwartaal\"])\n",
    "meandata = years2[\"Diesel\"].mean()\n",
    "\n",
    "#meandata.plot()\n"
   ]
  },
  {
   "cell_type": "code",
   "execution_count": 18,
   "metadata": {},
   "outputs": [
    {
     "data": {
      "text/plain": [
       "Jaar  Kwartaal\n",
       "2006  1           1.027789\n",
       "      2           1.076604\n",
       "      3           1.068043\n",
       "      4           1.000435\n",
       "2007  1           0.988733\n",
       "                    ...   \n",
       "2022  4           1.917250\n",
       "2023  1           1.702144\n",
       "      2           1.536154\n",
       "      3           1.797511\n",
       "      4           1.934500\n",
       "Name: Diesel, Length: 72, dtype: float64"
      ]
     },
     "execution_count": 18,
     "metadata": {},
     "output_type": "execute_result"
    }
   ],
   "source": [
    "meandata"
   ]
  },
  {
   "cell_type": "code",
   "execution_count": null,
   "metadata": {},
   "outputs": [],
   "source": []
  }
 ],
 "metadata": {
  "kernelspec": {
   "display_name": "Python 3",
   "language": "python",
   "name": "python3"
  },
  "language_info": {
   "codemirror_mode": {
    "name": "ipython",
    "version": 3
   },
   "file_extension": ".py",
   "mimetype": "text/x-python",
   "name": "python",
   "nbconvert_exporter": "python",
   "pygments_lexer": "ipython3",
   "version": "3.11.3"
  },
  "orig_nbformat": 4
 },
 "nbformat": 4,
 "nbformat_minor": 2
}
