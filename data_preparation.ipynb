{
 "cells": [
  {
   "cell_type": "code",
   "execution_count": 78,
   "metadata": {},
   "outputs": [
    {
     "name": "stderr",
     "output_type": "stream",
     "text": [
      "C:\\Users\\Fos van der Meer\\AppData\\Local\\Temp\\ipykernel_26964\\1972635602.py:5: FutureWarning: DataFrame.applymap has been deprecated. Use DataFrame.map instead.\n",
      "  fuel [[\"Benzine\",\"Diesel\",\"LPG\"]] = fuel[[\"Benzine\", \"Diesel\",\"LPG\"]].applymap(lambda x: float(x))\n"
     ]
    },
    {
     "data": {
      "text/plain": [
       "numpy.float64"
      ]
     },
     "execution_count": 78,
     "metadata": {},
     "output_type": "execute_result"
    }
   ],
   "source": [
    "import pandas as pd\n",
    "\n",
    "fuel = pd.read_csv(\"data/fuel.csv\", sep=\";\")[:-1]\n",
    "fuel = fuel.replace(',','.', regex = True)\n",
    "fuel [[\"Benzine\",\"Diesel\",\"LPG\"]] = fuel[[\"Benzine\", \"Diesel\",\"LPG\"]].applymap(lambda x: float(x))\n"
   ]
  },
  {
   "cell_type": "code",
   "execution_count": 68,
   "metadata": {},
   "outputs": [
    {
     "data": {
      "text/plain": [
       "Perioden       False\n",
       "Benzine        False\n",
       "Diesel         False\n",
       "LPG            False\n",
       "Jaar           False\n",
       "Maand          False\n",
       "Maand index    False\n",
       "dtype: bool"
      ]
     },
     "execution_count": 68,
     "metadata": {},
     "output_type": "execute_result"
    }
   ],
   "source": [
    "fuel[[\"Benzine\"]][:10]\n",
    "\n",
    "fuel[\"Jaar\"] = [int(datum[:4]) for datum in fuel[\"Perioden\"]]\n",
    "dates = [date.split(sep= \" \") for date in fuel[\"Perioden\"]]\n",
    "fuel[\"Maand\"] = [date[-1] for date in dates]\n",
    "fuel.head()\n",
    "\n",
    "dct = {\"januari\": 1, \"februari\": 2, \"maart\": 3, \"april\": 4, \"mei\": 5, \"juni\": 6, \"juli\":7, \"augustus\": 8, \"september\":9, \"oktober\":10, \"november\":11, \"december\":12}\n",
    "fuel[\"Maand index\"] = fuel[\"Maand\"].map(dct)\n",
    "\n",
    "fuel.isna().any()"
   ]
  },
  {
   "cell_type": "code",
   "execution_count": 63,
   "metadata": {},
   "outputs": [
    {
     "data": {
      "text/html": [
       "<div>\n",
       "<style scoped>\n",
       "    .dataframe tbody tr th:only-of-type {\n",
       "        vertical-align: middle;\n",
       "    }\n",
       "\n",
       "    .dataframe tbody tr th {\n",
       "        vertical-align: top;\n",
       "    }\n",
       "\n",
       "    .dataframe thead th {\n",
       "        text-align: right;\n",
       "    }\n",
       "</style>\n",
       "<table border=\"1\" class=\"dataframe\">\n",
       "  <thead>\n",
       "    <tr style=\"text-align: right;\">\n",
       "      <th></th>\n",
       "      <th></th>\n",
       "      <th>Perioden</th>\n",
       "      <th>Benzine</th>\n",
       "      <th>Diesel</th>\n",
       "      <th>LPG</th>\n",
       "      <th>Maand</th>\n",
       "    </tr>\n",
       "    <tr>\n",
       "      <th>Jaar</th>\n",
       "      <th>Maand index</th>\n",
       "      <th></th>\n",
       "      <th></th>\n",
       "      <th></th>\n",
       "      <th></th>\n",
       "      <th></th>\n",
       "    </tr>\n",
       "  </thead>\n",
       "  <tbody>\n",
       "    <tr>\n",
       "      <th rowspan=\"5\" valign=\"top\">2006</th>\n",
       "      <th>1</th>\n",
       "      <td>2006 zondag 1 januari2006 maandag 2 januari200...</td>\n",
       "      <td>1.3251.3281.3321.3481.3471.3531.3611.3601.3621...</td>\n",
       "      <td>1.0031.0071.0071.0201.0211.0231.0221.0221.0241...</td>\n",
       "      <td>0.5430.5420.5400.5500.5500.5490.5550.5500.5540...</td>\n",
       "      <td>januarijanuarijanuarijanuarijanuarijanuarijanu...</td>\n",
       "    </tr>\n",
       "    <tr>\n",
       "      <th>2</th>\n",
       "      <td>2006 woensdag 1 februari2006 donderdag 2 febru...</td>\n",
       "      <td>1.3601.3601.3531.3441.3441.3421.3411.3411.3361...</td>\n",
       "      <td>1.0321.0311.0281.0241.0241.0241.0261.0261.0201...</td>\n",
       "      <td>0.5670.5660.5670.5640.5650.5640.5650.5590.5580...</td>\n",
       "      <td>februarifebruarifebruarifebruarifebruarifebrua...</td>\n",
       "    </tr>\n",
       "    <tr>\n",
       "      <th>3</th>\n",
       "      <td>2006 woensdag 1 maart2006 donderdag 2 maart200...</td>\n",
       "      <td>1.3221.3241.3291.3331.3331.3341.3351.3291.3261...</td>\n",
       "      <td>1.0261.0311.0431.0531.0521.0531.0551.0491.0471...</td>\n",
       "      <td>0.5350.5320.5300.5250.5280.5270.5270.5230.5220...</td>\n",
       "      <td>maartmaartmaartmaartmaartmaartmaartmaartmaartm...</td>\n",
       "    </tr>\n",
       "    <tr>\n",
       "      <th>4</th>\n",
       "      <td>2006 zaterdag 1 april2006 zondag 2 april2006 m...</td>\n",
       "      <td>1.4071.4051.4061.4061.4071.4071.4191.4211.4211...</td>\n",
       "      <td>1.0621.0621.0621.0631.0631.0611.0591.0571.0561...</td>\n",
       "      <td>0.5170.5170.5190.5210.5290.5300.5280.5280.5300...</td>\n",
       "      <td>aprilaprilaprilaprilaprilaprilaprilaprilaprila...</td>\n",
       "    </tr>\n",
       "    <tr>\n",
       "      <th>5</th>\n",
       "      <td>2006 maandag 1 mei2006 dinsdag 2 mei2006 woens...</td>\n",
       "      <td>1.4321.4371.4491.4551.4561.4411.4411.4401.4371...</td>\n",
       "      <td>1.0831.0841.0861.0891.0871.0751.0721.0731.0691...</td>\n",
       "      <td>0.5100.5100.5060.5030.5040.5000.5010.5030.5020...</td>\n",
       "      <td>meimeimeimeimeimeimeimeimeimeimeimeimeimeimeim...</td>\n",
       "    </tr>\n",
       "    <tr>\n",
       "      <th>...</th>\n",
       "      <th>...</th>\n",
       "      <td>...</td>\n",
       "      <td>...</td>\n",
       "      <td>...</td>\n",
       "      <td>...</td>\n",
       "      <td>...</td>\n",
       "    </tr>\n",
       "    <tr>\n",
       "      <th rowspan=\"5\" valign=\"top\">2023</th>\n",
       "      <th>6</th>\n",
       "      <td>2023 donderdag 1 juni2023 vrijdag 2 juni2023 z...</td>\n",
       "      <td>1.8121.8081.8061.8071.8101.8121.8111.8151.8231...</td>\n",
       "      <td>1.5021.4991.4951.4941.5021.5071.5061.5111.5151...</td>\n",
       "      <td>0.7530.7490.7600.7470.7480.7430.7430.7400.7340...</td>\n",
       "      <td>junijunijunijunijunijunijunijunijunijunijuniju...</td>\n",
       "    </tr>\n",
       "    <tr>\n",
       "      <th>7</th>\n",
       "      <td>2023 zaterdag 1 juli2023 zondag 2 juli2023 maa...</td>\n",
       "      <td>1.9711.9731.9761.9751.9721.9721.9691.9681.9671...</td>\n",
       "      <td>1.6351.6381.6431.6431.6391.6411.6441.6431.6421...</td>\n",
       "      <td>0.7440.7520.7490.7420.7410.7350.7300.7330.7320...</td>\n",
       "      <td>julijulijulijulijulijulijulijulijulijulijuliju...</td>\n",
       "    </tr>\n",
       "    <tr>\n",
       "      <th>8</th>\n",
       "      <td>2023 dinsdag 1 augustus2023 woensdag 2 augustu...</td>\n",
       "      <td>2.0602.0652.0712.0702.0672.0692.0702.0732.0682...</td>\n",
       "      <td>1.7551.7701.7901.7941.7931.7971.8001.7991.7961...</td>\n",
       "      <td>0.7240.7250.7260.7300.7290.7300.7310.7240.7330...</td>\n",
       "      <td>augustusaugustusaugustusaugustusaugustusaugust...</td>\n",
       "    </tr>\n",
       "    <tr>\n",
       "      <th>9</th>\n",
       "      <td>2023 vrijdag 1 september2023 zaterdag 2 septem...</td>\n",
       "      <td>2.1052.1032.1032.1072.1062.1012.0972.0962.1012...</td>\n",
       "      <td>1.8541.8541.8521.8581.8561.8561.8611.8641.8751...</td>\n",
       "      <td>0.7510.7510.7510.7490.7520.7540.7510.7610.7610...</td>\n",
       "      <td>septemberseptemberseptemberseptemberseptembers...</td>\n",
       "    </tr>\n",
       "    <tr>\n",
       "      <th>10</th>\n",
       "      <td>2023 zondag 1 oktober2023 maandag 2 oktober</td>\n",
       "      <td>2.1042.104</td>\n",
       "      <td>1.9331.936</td>\n",
       "      <td>0.7940.809</td>\n",
       "      <td>oktoberoktober</td>\n",
       "    </tr>\n",
       "  </tbody>\n",
       "</table>\n",
       "<p>214 rows × 5 columns</p>\n",
       "</div>"
      ],
      "text/plain": [
       "                                                           Perioden  \\\n",
       "Jaar Maand index                                                      \n",
       "2006 1            2006 zondag 1 januari2006 maandag 2 januari200...   \n",
       "     2            2006 woensdag 1 februari2006 donderdag 2 febru...   \n",
       "     3            2006 woensdag 1 maart2006 donderdag 2 maart200...   \n",
       "     4            2006 zaterdag 1 april2006 zondag 2 april2006 m...   \n",
       "     5            2006 maandag 1 mei2006 dinsdag 2 mei2006 woens...   \n",
       "...                                                             ...   \n",
       "2023 6            2023 donderdag 1 juni2023 vrijdag 2 juni2023 z...   \n",
       "     7            2023 zaterdag 1 juli2023 zondag 2 juli2023 maa...   \n",
       "     8            2023 dinsdag 1 augustus2023 woensdag 2 augustu...   \n",
       "     9            2023 vrijdag 1 september2023 zaterdag 2 septem...   \n",
       "     10                 2023 zondag 1 oktober2023 maandag 2 oktober   \n",
       "\n",
       "                                                            Benzine  \\\n",
       "Jaar Maand index                                                      \n",
       "2006 1            1.3251.3281.3321.3481.3471.3531.3611.3601.3621...   \n",
       "     2            1.3601.3601.3531.3441.3441.3421.3411.3411.3361...   \n",
       "     3            1.3221.3241.3291.3331.3331.3341.3351.3291.3261...   \n",
       "     4            1.4071.4051.4061.4061.4071.4071.4191.4211.4211...   \n",
       "     5            1.4321.4371.4491.4551.4561.4411.4411.4401.4371...   \n",
       "...                                                             ...   \n",
       "2023 6            1.8121.8081.8061.8071.8101.8121.8111.8151.8231...   \n",
       "     7            1.9711.9731.9761.9751.9721.9721.9691.9681.9671...   \n",
       "     8            2.0602.0652.0712.0702.0672.0692.0702.0732.0682...   \n",
       "     9            2.1052.1032.1032.1072.1062.1012.0972.0962.1012...   \n",
       "     10                                                  2.1042.104   \n",
       "\n",
       "                                                             Diesel  \\\n",
       "Jaar Maand index                                                      \n",
       "2006 1            1.0031.0071.0071.0201.0211.0231.0221.0221.0241...   \n",
       "     2            1.0321.0311.0281.0241.0241.0241.0261.0261.0201...   \n",
       "     3            1.0261.0311.0431.0531.0521.0531.0551.0491.0471...   \n",
       "     4            1.0621.0621.0621.0631.0631.0611.0591.0571.0561...   \n",
       "     5            1.0831.0841.0861.0891.0871.0751.0721.0731.0691...   \n",
       "...                                                             ...   \n",
       "2023 6            1.5021.4991.4951.4941.5021.5071.5061.5111.5151...   \n",
       "     7            1.6351.6381.6431.6431.6391.6411.6441.6431.6421...   \n",
       "     8            1.7551.7701.7901.7941.7931.7971.8001.7991.7961...   \n",
       "     9            1.8541.8541.8521.8581.8561.8561.8611.8641.8751...   \n",
       "     10                                                  1.9331.936   \n",
       "\n",
       "                                                                LPG  \\\n",
       "Jaar Maand index                                                      \n",
       "2006 1            0.5430.5420.5400.5500.5500.5490.5550.5500.5540...   \n",
       "     2            0.5670.5660.5670.5640.5650.5640.5650.5590.5580...   \n",
       "     3            0.5350.5320.5300.5250.5280.5270.5270.5230.5220...   \n",
       "     4            0.5170.5170.5190.5210.5290.5300.5280.5280.5300...   \n",
       "     5            0.5100.5100.5060.5030.5040.5000.5010.5030.5020...   \n",
       "...                                                             ...   \n",
       "2023 6            0.7530.7490.7600.7470.7480.7430.7430.7400.7340...   \n",
       "     7            0.7440.7520.7490.7420.7410.7350.7300.7330.7320...   \n",
       "     8            0.7240.7250.7260.7300.7290.7300.7310.7240.7330...   \n",
       "     9            0.7510.7510.7510.7490.7520.7540.7510.7610.7610...   \n",
       "     10                                                  0.7940.809   \n",
       "\n",
       "                                                              Maand  \n",
       "Jaar Maand index                                                     \n",
       "2006 1            januarijanuarijanuarijanuarijanuarijanuarijanu...  \n",
       "     2            februarifebruarifebruarifebruarifebruarifebrua...  \n",
       "     3            maartmaartmaartmaartmaartmaartmaartmaartmaartm...  \n",
       "     4            aprilaprilaprilaprilaprilaprilaprilaprilaprila...  \n",
       "     5            meimeimeimeimeimeimeimeimeimeimeimeimeimeimeim...  \n",
       "...                                                             ...  \n",
       "2023 6            junijunijunijunijunijunijunijunijunijunijuniju...  \n",
       "     7            julijulijulijulijulijulijulijulijulijulijuliju...  \n",
       "     8            augustusaugustusaugustusaugustusaugustusaugust...  \n",
       "     9            septemberseptemberseptemberseptemberseptembers...  \n",
       "     10                                              oktoberoktober  \n",
       "\n",
       "[214 rows x 5 columns]"
      ]
     },
     "execution_count": 63,
     "metadata": {},
     "output_type": "execute_result"
    }
   ],
   "source": [
    "years = [fuel[fuel[\"Jaar\"] == year] for year in range(2006, 2024)]\n",
    "years[0][(years[0][\"Maand index\"]-1)//3 == 0]\n",
    "\n",
    "years2 = fuel.groupby([\"Jaar\", \"Maand index\"])\n",
    "years2.sum()"
   ]
  },
  {
   "cell_type": "code",
   "execution_count": 40,
   "metadata": {},
   "outputs": [
    {
     "data": {
      "text/plain": [
       "2"
      ]
     },
     "execution_count": 40,
     "metadata": {},
     "output_type": "execute_result"
    }
   ],
   "source": [
    "8//4"
   ]
  },
  {
   "cell_type": "code",
   "execution_count": null,
   "metadata": {},
   "outputs": [],
   "source": []
  }
 ],
 "metadata": {
  "kernelspec": {
   "display_name": "Python 3",
   "language": "python",
   "name": "python3"
  },
  "language_info": {
   "codemirror_mode": {
    "name": "ipython",
    "version": 3
   },
   "file_extension": ".py",
   "mimetype": "text/x-python",
   "name": "python",
   "nbconvert_exporter": "python",
   "pygments_lexer": "ipython3",
   "version": "3.11.3"
  },
  "orig_nbformat": 4
 },
 "nbformat": 4,
 "nbformat_minor": 2
}
