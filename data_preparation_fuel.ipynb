{
 "cells": [
  {
   "cell_type": "code",
   "execution_count": 2,
   "metadata": {},
   "outputs": [],
   "source": [
    "import pandas as pd\n",
    "import matplotlib.pyplot as plt\n",
    "\n",
    "fuel = pd.read_csv(\"data/fuel.csv\", sep=\";\")[:-1]\n",
    "fuel = fuel.replace(',','.', regex = True)\n",
    "fuel[[\"Benzine\",\"Diesel\",\"LPG\"]] = fuel[[\"Benzine\", \"Diesel\",\"LPG\"]].map(lambda x: float(x))\n"
   ]
  },
  {
   "cell_type": "code",
   "execution_count": 3,
   "metadata": {},
   "outputs": [
    {
     "name": "stdout",
     "output_type": "stream",
     "text": [
      "Any empty values:\n",
      "Perioden    False\n",
      "Benzine     False\n",
      "Diesel      False\n",
      "LPG         False\n",
      "Jaar        False\n",
      "Maand       False\n",
      "Kwartaal    False\n",
      "dtype: bool\n",
      "                   Perioden  Benzine  Diesel    LPG  Jaar  Maand  Kwartaal\n",
      "0     2006 zondag 1 januari    1.325   1.003  0.543  2006      1         1\n",
      "1    2006 maandag 2 januari    1.328   1.007  0.542  2006      1         1\n",
      "2    2006 dinsdag 3 januari    1.332   1.007  0.540  2006      1         1\n",
      "3   2006 woensdag 4 januari    1.348   1.020  0.550  2006      1         1\n",
      "4  2006 donderdag 5 januari    1.347   1.021  0.550  2006      1         1\n"
     ]
    }
   ],
   "source": [
    "dates = [date.split(sep= \" \") for date in fuel[\"Perioden\"]]\n",
    "fuel[\"Jaar\"] = [date[0] for date in dates]\n",
    "\n",
    "dct = {\"januari\": 1, \"februari\": 2, \"maart\": 3, \"april\": 4, \"mei\": 5, \"juni\": 6,\\\n",
    "        \"juli\":7, \"augustus\": 8, \"september\":9, \"oktober\":10, \"november\":11, \"december\":12}\n",
    "fuel[\"Maand\"] = [dct[date[-1]] for date in dates]\n",
    "fuel[\"Kwartaal\"] = [1+(maand-1)//3 for maand in fuel[\"Maand\"]]\n",
    "fuel.head()\n",
    "\n",
    "print(\"Any empty values:\", fuel.isna().any(), sep=\"\\n\")\n",
    "print(fuel.head())"
   ]
  },
  {
   "cell_type": "code",
   "execution_count": 4,
   "metadata": {},
   "outputs": [],
   "source": [
    "years2 = fuel.groupby([\"Jaar\", \"Kwartaal\"])\n",
    "meandata = years2[\"Diesel\"].mean()[:-1] #remove last quarter since it is incomplete.\n",
    "\n",
    "#meandata.plot()\n"
   ]
  },
  {
   "cell_type": "code",
   "execution_count": 5,
   "metadata": {},
   "outputs": [
    {
     "data": {
      "text/plain": [
       "Jaar  Kwartaal\n",
       "2006  1           1.027789\n",
       "      2           1.076604\n",
       "      3           1.068043\n",
       "      4           1.000435\n",
       "2007  1           0.988733\n",
       "                    ...   \n",
       "2022  3           2.013902\n",
       "      4           1.917250\n",
       "2023  1           1.702144\n",
       "      2           1.536154\n",
       "      3           1.797511\n",
       "Name: Diesel, Length: 71, dtype: float64"
      ]
     },
     "execution_count": 5,
     "metadata": {},
     "output_type": "execute_result"
    }
   ],
   "source": [
    "meandata"
   ]
  },
  {
   "cell_type": "code",
   "execution_count": 6,
   "metadata": {},
   "outputs": [
    {
     "data": {
      "text/html": [
       "<div>\n",
       "<style scoped>\n",
       "    .dataframe tbody tr th:only-of-type {\n",
       "        vertical-align: middle;\n",
       "    }\n",
       "\n",
       "    .dataframe tbody tr th {\n",
       "        vertical-align: top;\n",
       "    }\n",
       "\n",
       "    .dataframe thead th {\n",
       "        text-align: right;\n",
       "    }\n",
       "</style>\n",
       "<table border=\"1\" class=\"dataframe\">\n",
       "  <thead>\n",
       "    <tr style=\"text-align: right;\">\n",
       "      <th></th>\n",
       "      <th>Perioden</th>\n",
       "      <th>Benzine</th>\n",
       "      <th>Diesel</th>\n",
       "      <th>LPG</th>\n",
       "      <th>Jaar</th>\n",
       "      <th>Maand</th>\n",
       "      <th>Kwartaal</th>\n",
       "    </tr>\n",
       "  </thead>\n",
       "  <tbody>\n",
       "    <tr>\n",
       "      <th>6479</th>\n",
       "      <td>2023 donderdag 28 september</td>\n",
       "      <td>2.114</td>\n",
       "      <td>1.938</td>\n",
       "      <td>0.797</td>\n",
       "      <td>2023</td>\n",
       "      <td>9</td>\n",
       "      <td>3</td>\n",
       "    </tr>\n",
       "    <tr>\n",
       "      <th>6480</th>\n",
       "      <td>2023 vrijdag 29 september</td>\n",
       "      <td>2.112</td>\n",
       "      <td>1.936</td>\n",
       "      <td>0.799</td>\n",
       "      <td>2023</td>\n",
       "      <td>9</td>\n",
       "      <td>3</td>\n",
       "    </tr>\n",
       "    <tr>\n",
       "      <th>6481</th>\n",
       "      <td>2023 zaterdag 30 september</td>\n",
       "      <td>2.102</td>\n",
       "      <td>1.932</td>\n",
       "      <td>0.798</td>\n",
       "      <td>2023</td>\n",
       "      <td>9</td>\n",
       "      <td>3</td>\n",
       "    </tr>\n",
       "    <tr>\n",
       "      <th>6482</th>\n",
       "      <td>2023 zondag 1 oktober</td>\n",
       "      <td>2.104</td>\n",
       "      <td>1.933</td>\n",
       "      <td>0.794</td>\n",
       "      <td>2023</td>\n",
       "      <td>10</td>\n",
       "      <td>4</td>\n",
       "    </tr>\n",
       "    <tr>\n",
       "      <th>6483</th>\n",
       "      <td>2023 maandag 2 oktober</td>\n",
       "      <td>2.104</td>\n",
       "      <td>1.936</td>\n",
       "      <td>0.809</td>\n",
       "      <td>2023</td>\n",
       "      <td>10</td>\n",
       "      <td>4</td>\n",
       "    </tr>\n",
       "  </tbody>\n",
       "</table>\n",
       "</div>"
      ],
      "text/plain": [
       "                         Perioden  Benzine  Diesel    LPG  Jaar  Maand  \\\n",
       "6479  2023 donderdag 28 september    2.114   1.938  0.797  2023      9   \n",
       "6480    2023 vrijdag 29 september    2.112   1.936  0.799  2023      9   \n",
       "6481   2023 zaterdag 30 september    2.102   1.932  0.798  2023      9   \n",
       "6482        2023 zondag 1 oktober    2.104   1.933  0.794  2023     10   \n",
       "6483       2023 maandag 2 oktober    2.104   1.936  0.809  2023     10   \n",
       "\n",
       "      Kwartaal  \n",
       "6479         3  \n",
       "6480         3  \n",
       "6481         3  \n",
       "6482         4  \n",
       "6483         4  "
      ]
     },
     "execution_count": 6,
     "metadata": {},
     "output_type": "execute_result"
    }
   ],
   "source": [
    "fuel.tail()"
   ]
  }
 ],
 "metadata": {
  "kernelspec": {
   "display_name": "Python 3 (ipykernel)",
   "language": "python",
   "name": "python3"
  },
  "language_info": {
   "codemirror_mode": {
    "name": "ipython",
    "version": 3
   },
   "file_extension": ".py",
   "mimetype": "text/x-python",
   "name": "python",
   "nbconvert_exporter": "python",
   "pygments_lexer": "ipython3",
   "version": "3.11.3"
  }
 },
 "nbformat": 4,
 "nbformat_minor": 2
}
