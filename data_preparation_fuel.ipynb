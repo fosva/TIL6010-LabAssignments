{
 "cells": [
  {
   "cell_type": "code",
   "execution_count": 12,
   "metadata": {},
   "outputs": [],
   "source": [
    "import pandas as pd\n",
    "import matplotlib.pyplot as plt\n",
    "\n",
    "fuel = pd.read_csv(\"data/fuel.csv\", sep=\";\")[:-1]\n",
    "fuel = fuel.replace(',','.', regex = True)\n",
    "fuel[[\"Benzine\",\"Diesel\",\"LPG\"]] = fuel[[\"Benzine\", \"Diesel\",\"LPG\"]].map(lambda x: float(x))\n"
   ]
  },
  {
   "cell_type": "code",
   "execution_count": 1,
   "metadata": {},
   "outputs": [
    {
     "ename": "NameError",
     "evalue": "name 'fuel' is not defined",
     "output_type": "error",
     "traceback": [
      "\u001b[1;31m---------------------------------------------------------------------------\u001b[0m",
      "\u001b[1;31mNameError\u001b[0m                                 Traceback (most recent call last)",
      "\u001b[1;32mc:\\Users\\Fos van der Meer\\Documents\\Uni\\TIL\\TIL Programming\\Repository\\TIL6010-LabAssignments\\data_preparation_fuel.ipynb Cell 2\u001b[0m line \u001b[0;36m1\n\u001b[1;32m----> <a href='vscode-notebook-cell:/c%3A/Users/Fos%20van%20der%20Meer/Documents/Uni/TIL/TIL%20Programming/Repository/TIL6010-LabAssignments/data_preparation_fuel.ipynb#W1sZmlsZQ%3D%3D?line=0'>1</a>\u001b[0m dates \u001b[39m=\u001b[39m [date\u001b[39m.\u001b[39msplit(sep\u001b[39m=\u001b[39m \u001b[39m\"\u001b[39m\u001b[39m \u001b[39m\u001b[39m\"\u001b[39m) \u001b[39mfor\u001b[39;00m date \u001b[39min\u001b[39;00m fuel[\u001b[39m\"\u001b[39m\u001b[39mPerioden\u001b[39m\u001b[39m\"\u001b[39m]]\n\u001b[0;32m      <a href='vscode-notebook-cell:/c%3A/Users/Fos%20van%20der%20Meer/Documents/Uni/TIL/TIL%20Programming/Repository/TIL6010-LabAssignments/data_preparation_fuel.ipynb#W1sZmlsZQ%3D%3D?line=1'>2</a>\u001b[0m fuel[\u001b[39m\"\u001b[39m\u001b[39mJaar\u001b[39m\u001b[39m\"\u001b[39m] \u001b[39m=\u001b[39m [date[\u001b[39m0\u001b[39m] \u001b[39mfor\u001b[39;00m date \u001b[39min\u001b[39;00m dates]\n\u001b[0;32m      <a href='vscode-notebook-cell:/c%3A/Users/Fos%20van%20der%20Meer/Documents/Uni/TIL/TIL%20Programming/Repository/TIL6010-LabAssignments/data_preparation_fuel.ipynb#W1sZmlsZQ%3D%3D?line=3'>4</a>\u001b[0m dct \u001b[39m=\u001b[39m {\u001b[39m\"\u001b[39m\u001b[39mjanuari\u001b[39m\u001b[39m\"\u001b[39m: \u001b[39m1\u001b[39m, \u001b[39m\"\u001b[39m\u001b[39mfebruari\u001b[39m\u001b[39m\"\u001b[39m: \u001b[39m2\u001b[39m, \u001b[39m\"\u001b[39m\u001b[39mmaart\u001b[39m\u001b[39m\"\u001b[39m: \u001b[39m3\u001b[39m, \u001b[39m\"\u001b[39m\u001b[39mapril\u001b[39m\u001b[39m\"\u001b[39m: \u001b[39m4\u001b[39m, \u001b[39m\"\u001b[39m\u001b[39mmei\u001b[39m\u001b[39m\"\u001b[39m: \u001b[39m5\u001b[39m, \u001b[39m\"\u001b[39m\u001b[39mjuni\u001b[39m\u001b[39m\"\u001b[39m: \u001b[39m6\u001b[39m,\\\n\u001b[0;32m      <a href='vscode-notebook-cell:/c%3A/Users/Fos%20van%20der%20Meer/Documents/Uni/TIL/TIL%20Programming/Repository/TIL6010-LabAssignments/data_preparation_fuel.ipynb#W1sZmlsZQ%3D%3D?line=4'>5</a>\u001b[0m         \u001b[39m\"\u001b[39m\u001b[39mjuli\u001b[39m\u001b[39m\"\u001b[39m:\u001b[39m7\u001b[39m, \u001b[39m\"\u001b[39m\u001b[39maugustus\u001b[39m\u001b[39m\"\u001b[39m: \u001b[39m8\u001b[39m, \u001b[39m\"\u001b[39m\u001b[39mseptember\u001b[39m\u001b[39m\"\u001b[39m:\u001b[39m9\u001b[39m, \u001b[39m\"\u001b[39m\u001b[39moktober\u001b[39m\u001b[39m\"\u001b[39m:\u001b[39m10\u001b[39m, \u001b[39m\"\u001b[39m\u001b[39mnovember\u001b[39m\u001b[39m\"\u001b[39m:\u001b[39m11\u001b[39m, \u001b[39m\"\u001b[39m\u001b[39mdecember\u001b[39m\u001b[39m\"\u001b[39m:\u001b[39m12\u001b[39m}\n",
      "\u001b[1;31mNameError\u001b[0m: name 'fuel' is not defined"
     ]
    }
   ],
   "source": [
    "dates = [date.split(sep= \" \") for date in fuel[\"Perioden\"]]\n",
    "fuel[\"Jaar\"] = [date[0] for date in dates]\n",
    "\n",
    "dct = {\"januari\": 1, \"februari\": 2, \"maart\": 3, \"april\": 4, \"mei\": 5, \"juni\": 6,\\\n",
    "        \"juli\":7, \"augustus\": 8, \"september\":9, \"oktober\":10, \"november\":11, \"december\":12}\n",
    "fuel[\"Maand\"] = [dct[date[-1]] for date in dates]\n",
    "fuel[\"Kwartaal\"] = [1+(maand-1)//3 for maand in fuel[\"Maand\"]]\n",
    "fuel.head()\n",
    "\n",
    "print(\"Any empty values:\", fuel.isna().any(), sep=\"\\n\")\n",
    "print(fuel.head())"
   ]
  },
  {
   "cell_type": "code",
   "execution_count": 25,
   "metadata": {},
   "outputs": [],
   "source": [
    "years2 = fuel.groupby([\"Jaar\", \"Kwartaal\"])\n",
    "meandata = years2[\"Diesel\"].mean()[:-1] #remove last quarter since it is incomplete.\n",
    "\n",
    "#meandata.plot()\n"
   ]
  },
  {
   "cell_type": "code",
   "execution_count": 23,
   "metadata": {},
   "outputs": [
    {
     "data": {
      "text/plain": [
       "Jaar  Kwartaal\n",
       "2006  1           1.027789\n",
       "      2           1.076604\n",
       "      3           1.068043\n",
       "      4           1.000435\n",
       "2007  1           0.988733\n",
       "                    ...   \n",
       "2022  3           2.013902\n",
       "      4           1.917250\n",
       "2023  1           1.702144\n",
       "      2           1.536154\n",
       "      3           1.797511\n",
       "Name: Diesel, Length: 71, dtype: float64"
      ]
     },
     "execution_count": 23,
     "metadata": {},
     "output_type": "execute_result"
    }
   ],
   "source": [
    "meandata"
   ]
  },
  {
   "cell_type": "code",
   "execution_count": 19,
   "metadata": {},
   "outputs": [
    {
     "data": {
      "text/html": [
       "<div>\n",
       "<style scoped>\n",
       "    .dataframe tbody tr th:only-of-type {\n",
       "        vertical-align: middle;\n",
       "    }\n",
       "\n",
       "    .dataframe tbody tr th {\n",
       "        vertical-align: top;\n",
       "    }\n",
       "\n",
       "    .dataframe thead th {\n",
       "        text-align: right;\n",
       "    }\n",
       "</style>\n",
       "<table border=\"1\" class=\"dataframe\">\n",
       "  <thead>\n",
       "    <tr style=\"text-align: right;\">\n",
       "      <th></th>\n",
       "      <th>Perioden</th>\n",
       "      <th>Benzine</th>\n",
       "      <th>Diesel</th>\n",
       "      <th>LPG</th>\n",
       "      <th>Jaar</th>\n",
       "      <th>Maand</th>\n",
       "      <th>Kwartaal</th>\n",
       "    </tr>\n",
       "  </thead>\n",
       "  <tbody>\n",
       "    <tr>\n",
       "      <th>6479</th>\n",
       "      <td>2023 donderdag 28 september</td>\n",
       "      <td>2.114</td>\n",
       "      <td>1.938</td>\n",
       "      <td>0.797</td>\n",
       "      <td>2023</td>\n",
       "      <td>9</td>\n",
       "      <td>3</td>\n",
       "    </tr>\n",
       "    <tr>\n",
       "      <th>6480</th>\n",
       "      <td>2023 vrijdag 29 september</td>\n",
       "      <td>2.112</td>\n",
       "      <td>1.936</td>\n",
       "      <td>0.799</td>\n",
       "      <td>2023</td>\n",
       "      <td>9</td>\n",
       "      <td>3</td>\n",
       "    </tr>\n",
       "    <tr>\n",
       "      <th>6481</th>\n",
       "      <td>2023 zaterdag 30 september</td>\n",
       "      <td>2.102</td>\n",
       "      <td>1.932</td>\n",
       "      <td>0.798</td>\n",
       "      <td>2023</td>\n",
       "      <td>9</td>\n",
       "      <td>3</td>\n",
       "    </tr>\n",
       "    <tr>\n",
       "      <th>6482</th>\n",
       "      <td>2023 zondag 1 oktober</td>\n",
       "      <td>2.104</td>\n",
       "      <td>1.933</td>\n",
       "      <td>0.794</td>\n",
       "      <td>2023</td>\n",
       "      <td>10</td>\n",
       "      <td>4</td>\n",
       "    </tr>\n",
       "    <tr>\n",
       "      <th>6483</th>\n",
       "      <td>2023 maandag 2 oktober</td>\n",
       "      <td>2.104</td>\n",
       "      <td>1.936</td>\n",
       "      <td>0.809</td>\n",
       "      <td>2023</td>\n",
       "      <td>10</td>\n",
       "      <td>4</td>\n",
       "    </tr>\n",
       "  </tbody>\n",
       "</table>\n",
       "</div>"
      ],
      "text/plain": [
       "                         Perioden  Benzine  Diesel    LPG  Jaar  Maand  \\\n",
       "6479  2023 donderdag 28 september    2.114   1.938  0.797  2023      9   \n",
       "6480    2023 vrijdag 29 september    2.112   1.936  0.799  2023      9   \n",
       "6481   2023 zaterdag 30 september    2.102   1.932  0.798  2023      9   \n",
       "6482        2023 zondag 1 oktober    2.104   1.933  0.794  2023     10   \n",
       "6483       2023 maandag 2 oktober    2.104   1.936  0.809  2023     10   \n",
       "\n",
       "      Kwartaal  \n",
       "6479         3  \n",
       "6480         3  \n",
       "6481         3  \n",
       "6482         4  \n",
       "6483         4  "
      ]
     },
     "execution_count": 19,
     "metadata": {},
     "output_type": "execute_result"
    }
   ],
   "source": [
    "fuel.tail()"
   ]
  }
 ],
 "metadata": {
  "kernelspec": {
   "display_name": "Python 3 (ipykernel)",
   "language": "python",
   "name": "python3"
  },
  "language_info": {
   "codemirror_mode": {
    "name": "ipython",
    "version": 3
   },
   "file_extension": ".py",
   "mimetype": "text/x-python",
   "name": "python",
   "nbconvert_exporter": "python",
   "pygments_lexer": "ipython3",
   "version": "3.11.4"
  }
 },
 "nbformat": 4,
 "nbformat_minor": 2
}
