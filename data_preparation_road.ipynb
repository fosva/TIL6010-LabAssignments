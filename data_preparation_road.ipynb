{
 "cells": [
  {
   "cell_type": "code",
   "execution_count": 9,
   "metadata": {},
   "outputs": [],
   "source": [
    "import pandas as pd\n",
    "import matplotlib.pyplot as plt\n",
    "\n",
    "road = pd.read_csv(\"data/road.csv\", sep=\";\")\n",
    "road = road.replace(',','.', regex = True)\n",
    "\n",
    "road[\"Perioden\"] = road[\"Perioden\"].map(lambda x : int(x.replace(\"*\", \"\")))\n"
   ]
  },
  {
   "cell_type": "markdown",
   "metadata": {},
   "source": [
    "We will only use transport routes starting or ending in the Netherlands. International Rail companies will not alter their routes depending on Dutch fuel prices. If we only consider these types of route for rail, we should do the same for road transport."
   ]
  },
  {
   "cell_type": "code",
   "execution_count": 10,
   "metadata": {},
   "outputs": [],
   "source": [
    "transport = road[(road[\"Beroeps- en eigen vervoer\"]==\"Beroepsvervoer\") & (road[\"Vervoerstromen\"] == \"Binnenlands en bilateraal vervoer\")]\n"
   ]
  },
  {
   "cell_type": "code",
   "execution_count": 11,
   "metadata": {},
   "outputs": [
    {
     "data": {
      "text/html": [
       "<div>\n",
       "<style scoped>\n",
       "    .dataframe tbody tr th:only-of-type {\n",
       "        vertical-align: middle;\n",
       "    }\n",
       "\n",
       "    .dataframe tbody tr th {\n",
       "        vertical-align: top;\n",
       "    }\n",
       "\n",
       "    .dataframe thead th {\n",
       "        text-align: right;\n",
       "    }\n",
       "</style>\n",
       "<table border=\"1\" class=\"dataframe\">\n",
       "  <thead>\n",
       "    <tr style=\"text-align: right;\">\n",
       "      <th></th>\n",
       "      <th>Beroeps- en eigen vervoer</th>\n",
       "      <th>Vervoerstromen</th>\n",
       "      <th>Perioden</th>\n",
       "      <th>Vervoerd ladinggewicht (1 000 ton)</th>\n",
       "      <th>Ladingtonkilometers (x mln)</th>\n",
       "      <th>Voertuigkilometers, totaal (mln km)</th>\n",
       "      <th>Voertuigkilometers, beladen (mln km)</th>\n",
       "      <th>Ritten, beladen (x 1 000)</th>\n",
       "    </tr>\n",
       "  </thead>\n",
       "  <tbody>\n",
       "    <tr>\n",
       "      <th>208</th>\n",
       "      <td>Beroepsvervoer</td>\n",
       "      <td>Binnenlands en bilateraal vervoer</td>\n",
       "      <td>1997</td>\n",
       "      <td>424647</td>\n",
       "      <td>69589</td>\n",
       "      <td>NaN</td>\n",
       "      <td>3595.0</td>\n",
       "      <td>NaN</td>\n",
       "    </tr>\n",
       "    <tr>\n",
       "      <th>209</th>\n",
       "      <td>Beroepsvervoer</td>\n",
       "      <td>Binnenlands en bilateraal vervoer</td>\n",
       "      <td>1998</td>\n",
       "      <td>436486</td>\n",
       "      <td>71180</td>\n",
       "      <td>NaN</td>\n",
       "      <td>3689.0</td>\n",
       "      <td>NaN</td>\n",
       "    </tr>\n",
       "    <tr>\n",
       "      <th>210</th>\n",
       "      <td>Beroepsvervoer</td>\n",
       "      <td>Binnenlands en bilateraal vervoer</td>\n",
       "      <td>1999</td>\n",
       "      <td>479179</td>\n",
       "      <td>74885</td>\n",
       "      <td>NaN</td>\n",
       "      <td>3939.0</td>\n",
       "      <td>NaN</td>\n",
       "    </tr>\n",
       "    <tr>\n",
       "      <th>211</th>\n",
       "      <td>Beroepsvervoer</td>\n",
       "      <td>Binnenlands en bilateraal vervoer</td>\n",
       "      <td>2000</td>\n",
       "      <td>452341</td>\n",
       "      <td>69653</td>\n",
       "      <td>NaN</td>\n",
       "      <td>3864.0</td>\n",
       "      <td>NaN</td>\n",
       "    </tr>\n",
       "    <tr>\n",
       "      <th>212</th>\n",
       "      <td>Beroepsvervoer</td>\n",
       "      <td>Binnenlands en bilateraal vervoer</td>\n",
       "      <td>2001</td>\n",
       "      <td>464502</td>\n",
       "      <td>69011</td>\n",
       "      <td>NaN</td>\n",
       "      <td>3935.0</td>\n",
       "      <td>NaN</td>\n",
       "    </tr>\n",
       "  </tbody>\n",
       "</table>\n",
       "</div>"
      ],
      "text/plain": [
       "    Beroeps- en eigen vervoer                     Vervoerstromen  Perioden  \\\n",
       "208            Beroepsvervoer  Binnenlands en bilateraal vervoer      1997   \n",
       "209            Beroepsvervoer  Binnenlands en bilateraal vervoer      1998   \n",
       "210            Beroepsvervoer  Binnenlands en bilateraal vervoer      1999   \n",
       "211            Beroepsvervoer  Binnenlands en bilateraal vervoer      2000   \n",
       "212            Beroepsvervoer  Binnenlands en bilateraal vervoer      2001   \n",
       "\n",
       "     Vervoerd ladinggewicht (1 000 ton)  Ladingtonkilometers (x mln)  \\\n",
       "208                              424647                        69589   \n",
       "209                              436486                        71180   \n",
       "210                              479179                        74885   \n",
       "211                              452341                        69653   \n",
       "212                              464502                        69011   \n",
       "\n",
       "     Voertuigkilometers, totaal (mln km)  \\\n",
       "208                                  NaN   \n",
       "209                                  NaN   \n",
       "210                                  NaN   \n",
       "211                                  NaN   \n",
       "212                                  NaN   \n",
       "\n",
       "     Voertuigkilometers, beladen (mln km)  Ritten, beladen (x 1 000)  \n",
       "208                                3595.0                        NaN  \n",
       "209                                3689.0                        NaN  \n",
       "210                                3939.0                        NaN  \n",
       "211                                3864.0                        NaN  \n",
       "212                                3935.0                        NaN  "
      ]
     },
     "execution_count": 11,
     "metadata": {},
     "output_type": "execute_result"
    }
   ],
   "source": [
    "transport.head()"
   ]
  },
  {
   "cell_type": "code",
   "execution_count": 12,
   "metadata": {},
   "outputs": [
    {
     "data": {
      "image/png": "[encoded data removed]",
      "text/plain": [
       "<Figure size 640x480 with 1 Axes>"
      ]
     },
     "metadata": {},
     "output_type": "display_data"
    }
   ],
   "source": [
    "plt.plot(transport[\"Perioden\"], transport[\"Ladingtonkilometers (x mln)\"])\n",
    "plt.xticks(rotation=45, ha=\"right\")\n",
    "plt.show()"
   ]
  },
  {
   "cell_type": "code",
   "execution_count": 13,
   "metadata": {},
   "outputs": [
    {
     "data": {
      "text/plain": [
       "208    1997\n",
       "209    1998\n",
       "210    1999\n",
       "211    2000\n",
       "212    2001\n",
       "213    2002\n",
       "214    2003\n",
       "215    2004\n",
       "216    2005\n",
       "217    2006\n",
       "218    2007\n",
       "219    2008\n",
       "220    2009\n",
       "221    2010\n",
       "222    2011\n",
       "223    2012\n",
       "224    2013\n",
       "225    2014\n",
       "226    2015\n",
       "227    2016\n",
       "228    2017\n",
       "229    2018\n",
       "230    2019\n",
       "231    2020\n",
       "232    2021\n",
       "233    2022\n",
       "Name: Perioden, dtype: int64"
      ]
     },
     "execution_count": 13,
     "metadata": {},
     "output_type": "execute_result"
    }
   ],
   "source": [
    "transport[\"Perioden\"]"
   ]
  },
  {
   "cell_type": "code",
   "execution_count": null,
   "metadata": {},
   "outputs": [],
   "source": []
  }
 ],
 "metadata": {
  "kernelspec": {
   "display_name": "Python 3",
   "language": "python",
   "name": "python3"
  },
  "language_info": {
   "codemirror_mode": {
    "name": "ipython",
    "version": 3
   },
   "file_extension": ".py",
   "mimetype": "text/x-python",
   "name": "python",
   "nbconvert_exporter": "python",
   "pygments_lexer": "ipython3",
   "version": "3.11.3"
  }
 },
 "nbformat": 4,
 "nbformat_minor": 2
}
