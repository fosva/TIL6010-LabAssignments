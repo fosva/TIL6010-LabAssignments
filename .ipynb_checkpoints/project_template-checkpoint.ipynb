{
 "cells": [
  {
   "cell_type": "markdown",
   "metadata": {},
   "source": [
    "# Project Group - \n",
    "\n",
    "Members: \n",
    "Fos van der Meer 4866436\n",
    "Thijn Schoonderbeek 6090133\n",
    "Jim van Erp, 5083540"
   ]
  },
  {
   "cell_type": "markdown",
   "metadata": {},
   "source": [
    "# Research Objective\n",
    "\n",
    "*Requires data modeling and quantitative research in Transport, Infrastructure & Logistics*"
   ]
  },
  {
   "cell_type": "markdown",
   "metadata": {},
   "source": [
    "What effect does the price of fuels have on the mode of transport on land? We will compare data of fuel prices in the Netherlands, road (truck) transport, and rail (train) transport."
   ]
  },
  {
   "cell_type": "markdown",
   "metadata": {},
   "source": [
    "# Contribution Statement\n",
    "\n",
    "*Be specific. Some of the tasks can be coding (expect everyone to do this), background research, conceptualisation, visualisation, data analysis, data modelling*"
   ]
  },
  {
   "cell_type": "markdown",
   "metadata": {},
   "source": []
  },
  {
   "cell_type": "markdown",
   "metadata": {},
   "source": [
    "**Author 1**: Fos van der Meer: Coding, data analysis\n",
    "\n",
    "**Author 2**: Thijn Schoonderbeek: background research & visualisation\n",
    "\n",
    "**Author 3**: Jim van Erp: Conceptualization & data preparation"
   ]
  },
  {
   "cell_type": "markdown",
   "metadata": {},
   "source": [
    "# Data Used"
   ]
  },
  {
   "cell_type": "markdown",
   "metadata": {},
   "source": [
    "Fuel prices:\n",
    "https://data.overheid.nl/dataset/532-pompprijzen-motorbrandstoffen--brandstofsoort--per-dag#panel-description\n",
    "\n",
    "Rail transport:\n",
    "https://data.overheid.nl/dataset/1184-spoorvervoer--ladinggewicht--ladingtonkilometer--treinkilometers\n",
    "\n",
    "Road transport:\n",
    "https://data.overheid.nl/dataset/1186-wegvervoer--kerncijfers#panel-description\n"
   ]
  },
  {
   "cell_type": "markdown",
   "metadata": {},
   "source": [
    "# Data Pipeline"
   ]
  },
  {
   "cell_type": "markdown",
   "metadata": {},
   "source": [
    "Change dates to number format.\n",
    "Match sample frequency (quarterly). This is optional.\n",
    "\n"
   ]
  }
 ],
 "metadata": {
  "kernelspec": {
   "display_name": "Python 3 (ipykernel)",
   "language": "python",
   "name": "python3"
  },
  "language_info": {
   "codemirror_mode": {
    "name": "ipython",
    "version": 3
   },
   "file_extension": ".py",
   "mimetype": "text/x-python",
   "name": "python",
   "nbconvert_exporter": "python",
   "pygments_lexer": "ipython3",
   "version": "3.11.4"
  },
  "vscode": {
   "interpreter": {
    "hash": "31f2aee4e71d21fbe5cf8b01ff0e069b9275f58929596ceb00d14d90e3e16cd6"
   }
  }
 },
 "nbformat": 4,
 "nbformat_minor": 2
}
